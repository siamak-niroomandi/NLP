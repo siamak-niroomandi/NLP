{
  "nbformat": 4,
  "nbformat_minor": 0,
  "metadata": {
    "colab": {
      "name": "Sarcasm_Detection.ipynb",
      "provenance": [],
      "collapsed_sections": []
    },
    "kernelspec": {
      "name": "python3",
      "display_name": "Python 3"
    },
    "language_info": {
      "name": "python"
    },
    "accelerator": "GPU"
  },
  "cells": [
    {
      "cell_type": "markdown",
      "source": [
        "# Natural Language Processing (NLP) to detect sarcasm\n"
      ],
      "metadata": {
        "id": "A4PtcmokYIGV"
      }
    },
    {
      "cell_type": "markdown",
      "source": [
        "This code uses Natural Language Processing (NLP) to detect sarcasm in sentences that are news headlines. This data set was also used in a TensorFlow tutorial and part of that code is used. The links are provided below. \n",
        "\n",
        "https://github.com/rishabhmisra/News-Headlines-Dataset-For-Sarcasm-Detection\n",
        "\n",
        "https://tinyurl.com/3v4ahzn8"
      ],
      "metadata": {
        "id": "eBwNg8p2wzzN"
      }
    },
    {
      "cell_type": "code",
      "execution_count": 1,
      "metadata": {
        "id": "ePeUaXkvskFg"
      },
      "outputs": [],
      "source": [
        "from google.colab import drive\n",
        "import os\n",
        "%tensorflow_version 2.x\n",
        "import tensorflow as tf\n",
        "from tensorflow.keras.preprocessing.text import Tokenizer\n",
        "from tensorflow.keras.preprocessing.sequence import pad_sequences\n",
        "import numpy as np\n",
        "import matplotlib.pyplot as plt\n",
        "from sklearn.model_selection import train_test_split\n"
      ]
    },
    {
      "cell_type": "code",
      "source": [
        "drive.mount('/content/drive')\n",
        "data_path = '/content/drive/MyDrive'\n",
        "os.chdir(data_path)"
      ],
      "metadata": {
        "id": "usSzOC2iSSJI",
        "colab": {
          "base_uri": "https://localhost:8080/"
        },
        "outputId": "3700de16-24c9-49db-f108-ab41182c635b"
      },
      "execution_count": 2,
      "outputs": [
        {
          "output_type": "stream",
          "name": "stdout",
          "text": [
            "Mounted at /content/drive\n"
          ]
        }
      ]
    },
    {
      "cell_type": "markdown",
      "source": [
        "# Load the data"
      ],
      "metadata": {
        "id": "9hsLGOtbYATt"
      }
    },
    {
      "cell_type": "code",
      "source": [
        "def parseJson(fname):\n",
        "    for line in open(fname, 'r'):\n",
        "        yield eval(line)"
      ],
      "metadata": {
        "id": "slgN0K1OvDnA"
      },
      "execution_count": 3,
      "outputs": []
    },
    {
      "cell_type": "code",
      "source": [
        "datastore = list(parseJson('sarcasm.json'))"
      ],
      "metadata": {
        "id": "THrJ1NvyssHt"
      },
      "execution_count": 4,
      "outputs": []
    },
    {
      "cell_type": "code",
      "source": [
        "sentences = []\n",
        "labels = []\n",
        "urls = []\n",
        "for item in datastore:\n",
        "  sentences.append(item['headline'])\n",
        "  labels.append(item['is_sarcastic'])\n",
        "  urls.append(item['article_link'])"
      ],
      "metadata": {
        "id": "Q4rZAP2VsmGK"
      },
      "execution_count": 5,
      "outputs": []
    },
    {
      "cell_type": "markdown",
      "source": [
        "# Split the data into train and validation set\n",
        "\n",
        "\n"
      ],
      "metadata": {
        "id": "CJjXIrBCX6Al"
      }
    },
    {
      "cell_type": "code",
      "source": [
        "sentences_train, sentences_val, labels_train, labels_val = train_test_split(sentences,labels,stratify=labels,shuffle=True)"
      ],
      "metadata": {
        "id": "hNoiyZK3i6TM"
      },
      "execution_count": 6,
      "outputs": []
    },
    {
      "cell_type": "code",
      "source": [
        "sentences_train[:10]"
      ],
      "metadata": {
        "colab": {
          "base_uri": "https://localhost:8080/"
        },
        "id": "MCODZ5qJctWd",
        "outputId": "a603d7b1-97ec-4030-da6e-ce316318a47d"
      },
      "execution_count": 7,
      "outputs": [
        {
          "output_type": "execute_result",
          "data": {
            "text/plain": [
              "['is turkey drifting between isis & putin?',\n",
              " 'democrats agree to reopen government without protections for dreamers',\n",
              " 'woman accused of heinous sex crimes against 3-year-old and dog',\n",
              " 'alyson stoner opens up about falling in love with a woman',\n",
              " 'trump administration adds more foreign guest worker visas',\n",
              " \"kids' behavior linked to moms' acetaminophen use during pregnancy\",\n",
              " 'how the deportation crackdown is hurting immigrant victims of crime',\n",
              " 'kavanaugh panicking after botching part of confirmation where he asked if he rejects satan',\n",
              " \"qaddafi asks closest advisers if they think he's a bad person\",\n",
              " 'dream team wins small soft drink']"
            ]
          },
          "metadata": {},
          "execution_count": 7
        }
      ]
    },
    {
      "cell_type": "markdown",
      "source": [
        "# Tokenize the sentences"
      ],
      "metadata": {
        "id": "CDV29ZKpYlNj"
      }
    },
    {
      "cell_type": "code",
      "source": [
        "vocab_size = 10000\n",
        "embedding_dim = 16\n",
        "max_length = 50\n",
        "trunc_type='post'\n",
        "padding_type='post'\n",
        "oov_tok = \"<OOV>\""
      ],
      "metadata": {
        "id": "VLpB6758I_Un"
      },
      "execution_count": 8,
      "outputs": []
    },
    {
      "cell_type": "code",
      "source": [
        "tokenizer = Tokenizer(num_words=vocab_size, oov_token=oov_tok)\n",
        "tokenizer.fit_on_texts(sentences_train)\n",
        "word_index = tokenizer.word_index\n",
        "sequences_train = tokenizer.texts_to_sequences(sentences_train)\n",
        "padded_train = pad_sequences(sequences_train, maxlen=max_length, padding=padding_type, truncating=trunc_type)\n"
      ],
      "metadata": {
        "id": "BSs3eGejRZbY"
      },
      "execution_count": 9,
      "outputs": []
    },
    {
      "cell_type": "code",
      "source": [
        "sequences_val = tokenizer.texts_to_sequences(sentences_val)\n",
        "padded_val = pad_sequences(sequences_val,maxlen=max_length, padding=padding_type, truncating=trunc_type)"
      ],
      "metadata": {
        "id": "XU20MVZm5p8l"
      },
      "execution_count": 10,
      "outputs": []
    },
    {
      "cell_type": "code",
      "source": [
        "padded_train = np.array(padded_train)\n",
        "labels_train = np.array(labels_train)\n",
        "padded_val = np.array(padded_val)\n",
        "labels_val = np.array(labels_val)"
      ],
      "metadata": {
        "id": "Gx7leLIcJrp4"
      },
      "execution_count": 11,
      "outputs": []
    },
    {
      "cell_type": "markdown",
      "source": [
        "# Build and train a model"
      ],
      "metadata": {
        "id": "eE1h_6jGYz0_"
      }
    },
    {
      "cell_type": "code",
      "source": [
        "model = tf.keras.Sequential([\n",
        "  tf.keras.layers.Embedding(vocab_size, embedding_dim),\n",
        "  tf.keras.layers.GlobalAveragePooling1D(),\n",
        "  tf.keras.layers.Dense(24, activation='relu'),\n",
        "  tf.keras.layers.Dense(1, activation='sigmoid')                             \n",
        "])"
      ],
      "metadata": {
        "id": "MbuW4cHNDYfj"
      },
      "execution_count": 12,
      "outputs": []
    },
    {
      "cell_type": "code",
      "source": [
        "model.compile(loss='binary_crossentropy',optimizer='adam',metrics=['accuracy'])"
      ],
      "metadata": {
        "id": "twbz7w7rEJ7a"
      },
      "execution_count": 13,
      "outputs": []
    },
    {
      "cell_type": "code",
      "source": [
        "model.summary()\n"
      ],
      "metadata": {
        "colab": {
          "base_uri": "https://localhost:8080/"
        },
        "id": "0nsw9_SmKN6Y",
        "outputId": "e8bf3129-787d-4e21-ced1-de2b742d549f"
      },
      "execution_count": 14,
      "outputs": [
        {
          "output_type": "stream",
          "name": "stdout",
          "text": [
            "Model: \"sequential\"\n",
            "_________________________________________________________________\n",
            " Layer (type)                Output Shape              Param #   \n",
            "=================================================================\n",
            " embedding (Embedding)       (None, None, 16)          160000    \n",
            "                                                                 \n",
            " global_average_pooling1d (G  (None, 16)               0         \n",
            " lobalAveragePooling1D)                                          \n",
            "                                                                 \n",
            " dense (Dense)               (None, 24)                408       \n",
            "                                                                 \n",
            " dense_1 (Dense)             (None, 1)                 25        \n",
            "                                                                 \n",
            "=================================================================\n",
            "Total params: 160,433\n",
            "Trainable params: 160,433\n",
            "Non-trainable params: 0\n",
            "_________________________________________________________________\n"
          ]
        }
      ]
    },
    {
      "cell_type": "code",
      "source": [
        "# After training with different num_epochs, 4 looks to be an appropriate number.\n",
        "num_epochs = 4\n",
        "history = model.fit(padded_train, labels_train, epochs=num_epochs, validation_data=(padded_val, labels_val), verbose=2)"
      ],
      "metadata": {
        "colab": {
          "base_uri": "https://localhost:8080/"
        },
        "id": "gpA5bftQKUvp",
        "outputId": "f8856ea7-8d98-46a2-de08-87ca996232c8"
      },
      "execution_count": 15,
      "outputs": [
        {
          "output_type": "stream",
          "name": "stdout",
          "text": [
            "Epoch 1/4\n",
            "671/671 - 7s - loss: 0.6391 - accuracy: 0.6309 - val_loss: 0.4818 - val_accuracy: 0.8113 - 7s/epoch - 11ms/step\n",
            "Epoch 2/4\n",
            "671/671 - 4s - loss: 0.3752 - accuracy: 0.8497 - val_loss: 0.3626 - val_accuracy: 0.8449 - 4s/epoch - 5ms/step\n",
            "Epoch 3/4\n",
            "671/671 - 4s - loss: 0.2861 - accuracy: 0.8861 - val_loss: 0.3616 - val_accuracy: 0.8375 - 4s/epoch - 5ms/step\n",
            "Epoch 4/4\n",
            "671/671 - 3s - loss: 0.2412 - accuracy: 0.9049 - val_loss: 0.3310 - val_accuracy: 0.8539 - 3s/epoch - 5ms/step\n"
          ]
        }
      ]
    },
    {
      "cell_type": "code",
      "source": [
        "def plot_graphs(history, string):\n",
        "  plt.plot(history.history[string])\n",
        "  plt.plot(history.history[f'val_{string}'])\n",
        "  plt.xlabel(\"Epochs\")\n",
        "  plt.ylabel(string)\n",
        "  plt.legend([string, f'val_{string}'])\n",
        "  plt.show()\n",
        "  \n",
        "plot_graphs(history, \"accuracy\")\n",
        "plot_graphs(history, \"loss\")"
      ],
      "metadata": {
        "colab": {
          "base_uri": "https://localhost:8080/",
          "height": 541
        },
        "id": "m1s8lnDQKUoC",
        "outputId": "ea17ae47-74c7-44ac-c7c8-7c9058c3ba6b"
      },
      "execution_count": 16,
      "outputs": [
        {
          "output_type": "display_data",
          "data": {
            "text/plain": [
              "<Figure size 432x288 with 1 Axes>"
            ],
            "image/png": "[encoded data removed]"
          },
          "metadata": {
            "needs_background": "light"
          }
        },
        {
          "output_type": "display_data",
          "data": {
            "text/plain": [
              "<Figure size 432x288 with 1 Axes>"
            ],
            "image/png": "[encoded data removed]"
          },
          "metadata": {
            "needs_background": "light"
          }
        }
      ]
    },
    {
      "cell_type": "markdown",
      "source": [
        "# Test the model with example sentences"
      ],
      "metadata": {
        "id": "GanKMQJTtJfL"
      }
    },
    {
      "cell_type": "code",
      "source": [
        "example_sentences = [\"Health Insurance Plan Only Covers Random Hippopotamus Attacks\", \"Florida Amusement Ride Operator's Mistake Led To Teen's Deadly Plunge, Officials Say\"]\n",
        "\n",
        "example_sequences = tokenizer.texts_to_sequences(example_sentences)\n",
        "example_padded = pad_sequences(example_sequences, maxlen=max_length, padding=padding_type, truncating=trunc_type)\n",
        "print(model.predict(example_padded))"
      ],
      "metadata": {
        "colab": {
          "base_uri": "https://localhost:8080/"
        },
        "id": "XoNXLLLatQm4",
        "outputId": "62947154-c610-463a-a055-847d8172e297"
      },
      "execution_count": 17,
      "outputs": [
        {
          "output_type": "stream",
          "name": "stdout",
          "text": [
            "[[0.8318954 ]\n",
            " [0.04400903]]\n"
          ]
        }
      ]
    },
    {
      "cell_type": "markdown",
      "source": [
        "The model correctly predicts the first sentence as sarcastic and the second one as not_sarcastic."
      ],
      "metadata": {
        "id": "JuTT-uNXaH20"
      }
    },
    {
      "cell_type": "code",
      "source": [
        ""
      ],
      "metadata": {
        "id": "XrEdQCW9aTxF"
      },
      "execution_count": null,
      "outputs": []
    }
  ]
}